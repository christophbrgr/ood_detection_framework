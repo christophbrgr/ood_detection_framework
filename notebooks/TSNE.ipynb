{
 "cells": [
  {
   "cell_type": "code",
   "execution_count": null,
   "source": [
    "import pandas as pd\n",
    "import numpy as np\n",
    "import matplotlib.pyplot as plt\n",
    "import matplotlib.gridspec as gridspec\n",
    "import seaborn as sns\n",
    "from sklearn.manifold import TSNE\n",
    "import os\n",
    "import pickle\n",
    "import random "
   ],
   "outputs": [],
   "metadata": {}
  },
  {
   "cell_type": "code",
   "execution_count": null,
   "source": [
    "with open('/Users/christoph/Downloads/mcp_sne.pkl', 'rb') as f:\n",
    "            data = pickle.load(f)\n",
    "labels = np.loadtxt('/Users/christoph/Downloads/mcp_targets.txt', delimiter='\\n')\n",
    "\n",
    "assert len(data) == len(labels)"
   ],
   "outputs": [],
   "metadata": {}
  },
  {
   "cell_type": "code",
   "execution_count": null,
   "source": [
    "cols = [f'emb_{i}' for i in range(len(data[0]))]\n",
    "df = pd.DataFrame(data, columns=cols)\n",
    "df['y'] = labels\n",
    "df['label'] = df['y'].apply(lambda i: str(i))"
   ],
   "outputs": [],
   "metadata": {}
  },
  {
   "cell_type": "code",
   "execution_count": null,
   "source": [
    "data_tsne = df[cols].values\n",
    "tsne = TSNE(random_state=42, n_components=2, verbose=1, perplexity=40, n_iter=300).fit_transform(data_tsne)"
   ],
   "outputs": [],
   "metadata": {}
  },
  {
   "cell_type": "code",
   "execution_count": null,
   "source": [
    "df['tsne-2d-one'] = tsne[:,0]\n",
    "df['tsne-2d-two'] = tsne[:,1]\n",
    "\n",
    "\n",
    "plt.figure(figsize=(16,10))\n",
    "sns.scatterplot(\n",
    "    x=\"tsne-2d-one\", y=\"tsne-2d-two\",\n",
    "    hue=\"y\",\n",
    "    palette=sns.color_palette(\"hls\", 2),\n",
    "    data=df,\n",
    "    legend=\"full\",\n",
    "    alpha=0.3\n",
    ")"
   ],
   "outputs": [],
   "metadata": {}
  },
  {
   "cell_type": "code",
   "execution_count": null,
   "source": [
    "with open('/Users/christoph/Downloads/mcp_sne_cifar10.pkl', 'rb') as f:\n",
    "            data = pickle.load(f)\n",
    "labels = np.loadtxt('/Users/christoph/Downloads/mcp_targets_cifar10.txt', delimiter='\\n')\n",
    "\n",
    "assert len(data) == len(labels)"
   ],
   "outputs": [],
   "metadata": {}
  },
  {
   "cell_type": "code",
   "execution_count": null,
   "source": [
    "cols2 = [f'emb_{i}' for i in range(len(data[0]))]\n",
    "df2 = pd.DataFrame(data, columns=cols2)\n",
    "df2['y'] = labels\n",
    "df2['label'] = df2['y'].apply(lambda i: str(i))"
   ],
   "outputs": [],
   "metadata": {}
  },
  {
   "cell_type": "code",
   "execution_count": null,
   "source": [
    "data_tsne2 = df2[cols2].values\n",
    "tsne2 = TSNE(random_state=42, n_components=2, verbose=1, perplexity=40, n_iter=300).fit_transform(data_tsne2)"
   ],
   "outputs": [],
   "metadata": {}
  },
  {
   "cell_type": "code",
   "execution_count": null,
   "source": [
    "df2['tsne-2d-one'] = tsne2[:,0]\n",
    "df2['tsne-2d-two'] = tsne2[:,1]\n",
    "\n",
    "\n",
    "plt.figure(figsize=(16,10))\n",
    "sns.scatterplot(\n",
    "    x=\"tsne-2d-one\", y=\"tsne-2d-two\",\n",
    "    hue=\"y\",\n",
    "    palette=sns.color_palette(\"hls\", 10),\n",
    "    data=df2,\n",
    "    legend=\"full\",\n",
    "    alpha=0.3\n",
    ")"
   ],
   "outputs": [],
   "metadata": {}
  },
  {
   "cell_type": "code",
   "execution_count": null,
   "source": [
    "plt.figure(figsize=(16,7))\n",
    "ax1 = plt.subplot(1, 2, 1)\n",
    "sns.scatterplot(\n",
    "    x=\"tsne-2d-one\", y=\"tsne-2d-two\",\n",
    "    hue=\"y\",\n",
    "    palette=sns.color_palette(\"hls\", 2),\n",
    "    data=df,\n",
    "    legend=\"full\",\n",
    "    alpha=0.3,\n",
    "    ax=ax1\n",
    ")\n",
    "\n",
    "ax2 = plt.subplot(1, 2, 2)\n",
    "sns.scatterplot(\n",
    "    x=\"tsne-2d-one\", y=\"tsne-2d-two\",\n",
    "    hue=\"y\",\n",
    "    palette=sns.color_palette(\"hls\", 10),\n",
    "    data=df2,\n",
    "    legend=\"full\",\n",
    "    alpha=0.3,\n",
    "    ax = ax2\n",
    ")"
   ],
   "outputs": [],
   "metadata": {}
  },
  {
   "cell_type": "code",
   "execution_count": null,
   "source": [
    "# OOD class \n",
    "with open('/Users/christoph/Downloads/mcp_sne.pkl', 'rb') as f:\n",
    "            data = pickle.load(f)\n",
    "labels = np.loadtxt('/Users/christoph/Downloads/mcp_targets.txt', delimiter='\\n')\n",
    "\n",
    "assert len(data) == len(labels)\n",
    "\n",
    "with open('/Users/christoph/Downloads/mcp_sne_ood.pkl', 'rb') as f:\n",
    "            data_ood = pickle.load(f)\n",
    "labels_ood = [2.0 for _ in range(len(data_ood))]\n",
    "\n",
    "assert len(data_ood) == len(labels_ood)"
   ],
   "outputs": [],
   "metadata": {}
  },
  {
   "cell_type": "code",
   "execution_count": null,
   "source": [
    "cols = [f'emb_{i}' for i in range(len(data[0]))]\n",
    "df = pd.DataFrame(data, columns=cols)\n",
    "df['y'] = labels\n",
    "\n",
    "df_ood = pd.DataFrame(data_ood, columns=cols)\n",
    "df_ood['y'] = labels_ood\n",
    "\n",
    "df = df.append(df_ood)\n",
    "df['label'] = df['y'].apply(lambda i: str(i))"
   ],
   "outputs": [],
   "metadata": {}
  },
  {
   "cell_type": "code",
   "execution_count": null,
   "source": [
    "data_tsne = df[cols].values\n",
    "tsne = TSNE(random_state=42, n_components=2, verbose=1, perplexity=40, n_iter=400).fit_transform(data_tsne)"
   ],
   "outputs": [],
   "metadata": {}
  },
  {
   "cell_type": "code",
   "execution_count": null,
   "source": [
    "df['tsne-2d-one'] = tsne[:,0]\n",
    "df['tsne-2d-two'] = tsne[:,1]\n",
    "\n",
    "\n",
    "plt.figure(figsize=(16,10))\n",
    "sns.scatterplot(\n",
    "    x=\"tsne-2d-one\", y=\"tsne-2d-two\",\n",
    "    hue=\"y\",\n",
    "    palette=sns.color_palette(\"hls\", 3),\n",
    "    data=df,\n",
    "    legend=\"full\",\n",
    "    alpha=0.3\n",
    ").set_title('MCP Baseline CheXpert')"
   ],
   "outputs": [],
   "metadata": {}
  },
  {
   "cell_type": "code",
   "execution_count": null,
   "source": [
    "# ODIN\n",
    "with open('/Users/christoph/Downloads/odin_sne.pkl', 'rb') as f:\n",
    "            data_odin = pickle.load(f)\n",
    "labels_odin = np.loadtxt('/Users/christoph/Downloads/mcp_targets.txt', delimiter='\\n')\n",
    "\n",
    "assert len(data_odin) == len(labels_odin)\n",
    "\n",
    "with open('/Users/christoph/Downloads/odin_sne_ood.pkl', 'rb') as f:\n",
    "            data_ood_odin = pickle.load(f)\n",
    "labels_ood_odin = [2.0 for _ in range(len(data_ood_odin))]\n",
    "\n",
    "assert len(data_ood_odin) == len(labels_ood_odin)\n",
    "\n",
    "cols_odin = [f'emb_{i}' for i in range(len(data_odin[0]))]\n",
    "df_odin = pd.DataFrame(data_odin, columns=cols_odin)\n",
    "df_odin['y'] = labels_odin\n",
    "\n",
    "df_ood_odin = pd.DataFrame(data_ood_odin, columns=cols_odin)\n",
    "df_ood_odin['y'] = labels_ood_odin\n",
    "\n",
    "df_odin = df_odin.append(df_ood_odin)\n",
    "df_odin['label'] = df_odin['y'].apply(lambda i: str(i))"
   ],
   "outputs": [],
   "metadata": {}
  },
  {
   "cell_type": "code",
   "execution_count": null,
   "source": [
    "data_tsne_odin = df_odin[cols_odin].values\n",
    "tsne_odin = TSNE(random_state=42, n_components=2, verbose=1, perplexity=40, n_iter=400).fit_transform(data_tsne_odin)"
   ],
   "outputs": [],
   "metadata": {}
  },
  {
   "cell_type": "code",
   "execution_count": null,
   "source": [
    "df_odin['tsne-2d-one'] = tsne_odin[:,0]\n",
    "df_odin['tsne-2d-two'] = tsne_odin[:,1]\n",
    "\n",
    "\n",
    "plt.figure(figsize=(16,10))\n",
    "sns.scatterplot(\n",
    "    x=\"tsne-2d-one\", y=\"tsne-2d-two\",\n",
    "    hue=\"y\",\n",
    "    palette=sns.color_palette(\"hls\", 3),\n",
    "    data=df_odin,\n",
    "    legend=\"full\",\n",
    "    alpha=0.3\n",
    ").set_title('ODIN CheXpert')"
   ],
   "outputs": [],
   "metadata": {}
  },
  {
   "cell_type": "code",
   "execution_count": null,
   "source": [
    "plt.figure(figsize=(16,7))\n",
    "ax1 = plt.subplot(1, 2, 1)\n",
    "sns.scatterplot(\n",
    "    x=\"tsne-2d-one\", y=\"tsne-2d-two\",\n",
    "    hue=\"y\",\n",
    "    palette=sns.color_palette(\"hls\", 3),\n",
    "    data=df,\n",
    "    legend=\"full\",\n",
    "    alpha=0.3,\n",
    "    ax=ax1\n",
    ").set_title('MCP CheXpert vs OOD')\n",
    "\n",
    "ax2 = plt.subplot(1, 2, 2)\n",
    "sns.scatterplot(\n",
    "    x=\"tsne-2d-one\", y=\"tsne-2d-two\",\n",
    "    hue=\"y\",\n",
    "    palette=sns.color_palette(\"hls\", 3),\n",
    "    data=df_odin,\n",
    "    legend=\"full\",\n",
    "    alpha=0.3,\n",
    "    ax=ax2\n",
    ").set_title('ODIN CheXpert vs OOD')"
   ],
   "outputs": [],
   "metadata": {}
  },
  {
   "cell_type": "code",
   "execution_count": null,
   "source": [
    "\n",
    "# reusable function\n",
    "def tsne_method(method='mcp', data='cifar10', subset=False):\n",
    "    with open(f'/Users/christophberger/Downloads/{method}_sne_{data}.pkl', 'rb') as f:\n",
    "                data_odin = pickle.load(f)\n",
    "    labels_odin = np.loadtxt(f'/Users/christophberger/Downloads/mcp_targets_{data}.txt', delimiter='\\n')\n",
    "\n",
    "    assert len(data_odin) == len(labels_odin)\n",
    "\n",
    "    with open(f'/Users/christophberger/Downloads/{method}_sne_ood_{data}.pkl', 'rb') as f:\n",
    "                data_ood_odin = pickle.load(f)\n",
    "    if data == 'cifar10':\n",
    "        x = 10.0\n",
    "    else:\n",
    "        x = 2.0\n",
    "    if subset:\n",
    "        data_ood_odin = random.sample(data_ood_odin, 1000)\n",
    "    labels_ood_odin = [x for _ in range(len(data_ood_odin))]\n",
    "\n",
    "    assert len(data_ood_odin) == len(labels_ood_odin)\n",
    "\n",
    "    cols_odin = [f'emb_{i}' for i in range(len(data_odin[0]))]\n",
    "    df_odin = pd.DataFrame(data_odin, columns=cols_odin)\n",
    "    df_odin['y'] = labels_odin\n",
    "\n",
    "    df_ood_odin = pd.DataFrame(data_ood_odin, columns=cols_odin)\n",
    "    df_ood_odin['y'] = labels_ood_odin\n",
    "\n",
    "    df_odin = df_odin.append(df_ood_odin)\n",
    "    df_odin['label'] = df_odin['y'].apply(lambda i: str(i))\n",
    "    data_tsne_odin = df_odin[cols_odin].values\n",
    "    tsne = TSNE(random_state=42, n_components=2, verbose=1, perplexity=40, n_iter=400).fit_transform(data_tsne_odin)\n",
    "    \n",
    "    df_odin['tsne-2d-one'] = tsne[:,0]\n",
    "    df_odin['tsne-2d-two'] = tsne[:,1]\n",
    "    return df_odin\n"
   ],
   "outputs": [],
   "metadata": {}
  },
  {
   "cell_type": "code",
   "execution_count": null,
   "source": [
    "df1 = tsne_method(subset=True)\n",
    "df2 = tsne_method('odin', subset=True)"
   ],
   "outputs": [],
   "metadata": {}
  },
  {
   "cell_type": "code",
   "execution_count": null,
   "source": [
    "plt.figure(figsize=(16,7))\n",
    "ax1 = plt.subplot(1, 2, 1)\n",
    "\n",
    "cifar_mapping = ['Airplane', 'Automobile', 'Bird', 'Cat', 'Deer', 'Dog', 'Frog', 'Horse', 'Ship', 'Truck', 'SVHN (OOD)']\n",
    "\n",
    "sns.scatterplot(\n",
    "    x=\"tsne-2d-one\", y=\"tsne-2d-two\",\n",
    "    hue=\"y\",\n",
    "    palette=sns.color_palette(\"hls\", 11),\n",
    "    data=df1,\n",
    "    legend=\"full\",\n",
    "    alpha=0.3,\n",
    "    ax=ax1\n",
    ").set_title('MCP CIFAR-10 vs OOD')\n",
    "handles, labels = ax1.get_legend_handles_labels()\n",
    "ax1.legend(handles,cifar_mapping)\n",
    "\n",
    "ax2 = plt.subplot(1, 2, 2)\n",
    "sns.scatterplot(\n",
    "    x=\"tsne-2d-one\", y=\"tsne-2d-two\",\n",
    "    hue=\"y\",\n",
    "    palette=sns.color_palette(\"hls\", 11),\n",
    "    data=df2,\n",
    "    legend=\"full\",\n",
    "    alpha=0.3,\n",
    "    ax=ax2\n",
    ").set_title('ODIN CIFAR-10 vs OOD')\n",
    "plt.savefig('cifar10_tsne.pdf')\n",
    "handles, labels = ax2.get_legend_handles_labels()\n",
    "ax2.legend(handles,cifar_mapping)\n",
    "\n",
    "plt.savefig('cifar_tsne.pdf')"
   ],
   "outputs": [],
   "metadata": {}
  },
  {
   "cell_type": "code",
   "execution_count": null,
   "source": [
    "df1 = tsne_method(data='chexpert')\n",
    "df2 = tsne_method('odin', data='chexpert')\n",
    "#df3 = tsne_method(subset=True)\n",
    "#df4 = tsne_method('odin', subset=True)"
   ],
   "outputs": [],
   "metadata": {
    "scrolled": true
   }
  },
  {
   "cell_type": "code",
   "execution_count": null,
   "source": [
    "marker_size = 20\n",
    "\n",
    "\n",
    "plt.figure(figsize=(16,7))\n",
    "# ax1 = plt.subplot(1, 2, 1, sharey=True)\n",
    "fig, (ax1, ax2) = plt.subplots(nrows=1, ncols=2, sharex=True, sharey=True, figsize=(16, 8))\n",
    "plot1 = sns.scatterplot(\n",
    "    x=\"tsne-2d-one\", y=\"tsne-2d-two\",\n",
    "    hue=\"y\",\n",
    "    s=marker_size,\n",
    "    palette=sns.color_palette(\"hls\", 3),\n",
    "    data=df1,\n",
    "    legend=\"full\",\n",
    "    alpha=0.3,\n",
    "    ax=ax1\n",
    ").set_title('Baseline CheXpert vs OOD')\n",
    "handles, labels = ax1.get_legend_handles_labels()\n",
    "ax1.legend(handles,['Cardiomegaly', 'Pneumothorax', 'Fracture (OOD)'])\n",
    "#ax1.legend(['Cardiomegaly', 'Pneumothorax', 'OOD (Fracture)'], loc='upper right')\n",
    "\n",
    "sns.scatterplot(\n",
    "    x=\"tsne-2d-one\", y=\"tsne-2d-two\",\n",
    "    hue=\"y\",\n",
    "    s=marker_size,\n",
    "    palette=sns.color_palette(\"hls\", 3),\n",
    "    data=df2,\n",
    "    legend=\"full\",\n",
    "    alpha=0.3,\n",
    "    ax=ax2\n",
    ").set_title('ODIN CheXpert vs OOD')\n",
    "\n",
    "handles, labels = ax2.get_legend_handles_labels()\n",
    "ax2.legend(handles,['Cardiomegaly', 'Pneumothorax', 'Fracture (OOD)'])\n",
    "\n",
    "plt.savefig('chexpert_tsne.pdf')"
   ],
   "outputs": [],
   "metadata": {}
  },
  {
   "cell_type": "code",
   "execution_count": null,
   "source": [
    "marker_size = 20\n",
    "\n",
    "# ax1 = plt.subplot(1, 2, 1, sharey=True)\n",
    "fig, (ax1, ax2, ax3, ax4) = plt.subplots(nrows=1, ncols=4, sharex=True, sharey=True, figsize=(24, 6))\n",
    "fig.subplots_adjust(wspace=0.025, hspace=0.05)\n",
    "plot1 = sns.scatterplot(\n",
    "    x=\"tsne-2d-one\", y=\"tsne-2d-two\",\n",
    "    hue=\"y\",\n",
    "    s=marker_size,\n",
    "    palette=sns.color_palette(\"hls\", 3),\n",
    "    data=df1,\n",
    "    legend=False,\n",
    "    alpha=0.3,\n",
    "    ax=ax3\n",
    ").set_title('Baseline CheXpert', fontsize=20)\n",
    "#handles, labels = ax1.get_legend_handles_labels()\n",
    "#ax1.legend(handles,['Cardiomegaly', 'Pneumothorax', 'Fracture (OOD)'])\n",
    "#ax1.legend(['Cardiomegaly', 'Pneumothorax', 'OOD (Fracture)'], loc='upper right')\n",
    "\n",
    "sns.scatterplot(\n",
    "    x=\"tsne-2d-one\", y=\"tsne-2d-two\",\n",
    "    hue=\"y\",\n",
    "    s=marker_size,\n",
    "    palette=sns.color_palette(\"hls\", 3),\n",
    "    data=df2,\n",
    "    legend=False,\n",
    "    alpha=0.3,\n",
    "    ax=ax4\n",
    ").set_title('ODIN CheXpert', fontsize=20)\n",
    "\n",
    "#handles, labels = ax2.get_legend_handles_labels()\n",
    "#ax2.legend(handles,['Cardiomegaly', 'Pneumothorax', 'Fracture (OOD)'])\n",
    "\n",
    "sns.scatterplot(\n",
    "    x=\"tsne-2d-one\", y=\"tsne-2d-two\",\n",
    "    hue=\"y\",\n",
    "    palette=sns.color_palette(\"hls\", 11),\n",
    "    data=df3,\n",
    "    legend=False,\n",
    "    alpha=0.3,\n",
    "    ax=ax1\n",
    ").set_title('Baseline CIFAR-10', fontsize=20)\n",
    "\n",
    "sns.scatterplot(\n",
    "    x=\"tsne-2d-one\", y=\"tsne-2d-two\",\n",
    "    hue=\"y\",\n",
    "    palette=sns.color_palette(\"hls\", 11),\n",
    "    data=df4,\n",
    "    legend=False,\n",
    "    alpha=0.3,\n",
    "    ax=ax2\n",
    ").set_title('ODIN CIFAR-10', fontsize=20)\n",
    "\n",
    "for ax in [ax1, ax2, ax3, ax4]:\n",
    "    ax.set_ylabel('')    \n",
    "    ax.set_xlabel('')\n",
    "    \n",
    "plt.rcParams.update({'font.size': 18})\n",
    "\n",
    "plt.savefig('chexpert_tsne.pdf')"
   ],
   "outputs": [],
   "metadata": {}
  },
  {
   "cell_type": "code",
   "execution_count": null,
   "source": [],
   "outputs": [],
   "metadata": {}
  }
 ],
 "metadata": {
  "kernelspec": {
   "display_name": "Python 3",
   "language": "python",
   "name": "python3"
  },
  "language_info": {
   "codemirror_mode": {
    "name": "ipython",
    "version": 3
   },
   "file_extension": ".py",
   "mimetype": "text/x-python",
   "name": "python",
   "nbconvert_exporter": "python",
   "pygments_lexer": "ipython3",
   "version": "3.8.8"
  }
 },
 "nbformat": 4,
 "nbformat_minor": 5
}