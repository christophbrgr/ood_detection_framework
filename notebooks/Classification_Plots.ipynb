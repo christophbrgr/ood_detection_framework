{
 "cells": [
  {
   "cell_type": "code",
   "execution_count": null,
   "source": [
    "import matplotlib.pyplot as plt\n",
    "import pandas as pd\n",
    "import os \n",
    "import numpy as np\n",
    "import sklearn.metrics as skm"
   ],
   "outputs": [],
   "metadata": {}
  },
  {
   "cell_type": "code",
   "execution_count": null,
   "source": [
    "PATH = '/Users/christophberger/Downloads'\n",
    "method = 'mcp'\n",
    "correct = os.path.join(PATH, f'{method}_correct.txt')\n",
    "confidence = os.path.join(PATH, f'{method}_confidence.txt')\n",
    "\n",
    "# correct_list = np.loadtxt(correct, delimiter='\\n', converters = {0: lambda s: int(s == 'True')})\n",
    "correct_list = np.genfromtxt(correct, dtype=bool)\n",
    "confidence_list = np.loadtxt(confidence, delimiter='\\n')"
   ],
   "outputs": [],
   "metadata": {}
  },
  {
   "cell_type": "code",
   "execution_count": null,
   "source": [
    "correct_list"
   ],
   "outputs": [],
   "metadata": {}
  },
  {
   "cell_type": "code",
   "execution_count": null,
   "source": [
    "fpr, tpr, thresh = skm.roc_curve(y_true = correct_list, y_score = confidence_list, pos_label = 1) #positive class is 1; negative class is 0\n",
    "auroc_classification = skm.auc(fpr, tpr)"
   ],
   "outputs": [],
   "metadata": {}
  },
  {
   "cell_type": "code",
   "execution_count": null,
   "source": [
    "plt.plot(fpr, tpr)"
   ],
   "outputs": [],
   "metadata": {}
  },
  {
   "cell_type": "code",
   "execution_count": null,
   "source": [
    "plt.plot(thresh, tpr)"
   ],
   "outputs": [],
   "metadata": {}
  },
  {
   "cell_type": "code",
   "execution_count": null,
   "source": [
    "plt.plot(correct_list, confidence_list)"
   ],
   "outputs": [],
   "metadata": {}
  },
  {
   "cell_type": "code",
   "execution_count": null,
   "source": [
    "thresholds = np.arange(0,1,0.01)\n",
    "thresholds"
   ],
   "outputs": [],
   "metadata": {}
  },
  {
   "cell_type": "code",
   "execution_count": null,
   "source": [
    "acc = []\n",
    "for thresh in thresholds:\n",
    "    conf_t = []\n",
    "    pred_t = []\n",
    "    for conf, pred in zip(confidence_list, correct_list):\n",
    "        if conf > thresh:\n",
    "            conf_t.append(conf)\n",
    "            pred_t.append(pred)\n",
    "    acc.append(sum(pred_t)/len(pred_t))"
   ],
   "outputs": [],
   "metadata": {}
  },
  {
   "cell_type": "code",
   "execution_count": null,
   "source": [
    "method = 'de'\n",
    "correct = os.path.join(PATH, f'{method}_correct.txt')\n",
    "confidence = os.path.join(PATH, f'{method}_confidence.txt')\n",
    "\n",
    "# correct_list = np.loadtxt(correct, delimiter='\\n', converters = {0: lambda s: int(s == 'True')})\n",
    "correct_list = np.genfromtxt(correct, dtype=bool)\n",
    "confidence_list = np.loadtxt(confidence, delimiter='\\n')\n",
    "acc_de = []\n",
    "for thresh in thresholds:\n",
    "    conf_t = []\n",
    "    pred_t = []\n",
    "    for conf, pred in zip(confidence_list, correct_list):\n",
    "        if conf > thresh:\n",
    "            conf_t.append(conf)\n",
    "            pred_t.append(pred)\n",
    "    if not len(pred_t):\n",
    "        acc_odin.append(1)\n",
    "        continue\n",
    "    acc_de.append(sum(pred_t)/len(pred_t))"
   ],
   "outputs": [],
   "metadata": {}
  },
  {
   "cell_type": "code",
   "execution_count": null,
   "source": [
    "method = 'odin'\n",
    "correct = os.path.join(PATH, f'{method}_correct.txt')\n",
    "confidence = os.path.join(PATH, f'{method}_confidence.txt')\n",
    "\n",
    "# correct_list = np.loadtxt(correct, delimiter='\\n', converters = {0: lambda s: int(s == 'True')})\n",
    "correct_list = np.genfromtxt(correct, dtype=bool)\n",
    "confidence_list = np.loadtxt(confidence, delimiter='\\n')\n",
    "acc_odin = []\n",
    "for thresh in thresholds:\n",
    "    conf_t = []\n",
    "    pred_t = []\n",
    "    for conf, pred in zip(confidence_list, correct_list):\n",
    "        if conf > thresh:\n",
    "            conf_t.append(conf)\n",
    "            pred_t.append(pred)\n",
    "    if not len(pred_t):\n",
    "        acc_odin.append(1)\n",
    "        continue\n",
    "    acc_odin.append(sum(pred_t)/len(pred_t))"
   ],
   "outputs": [],
   "metadata": {}
  },
  {
   "cell_type": "code",
   "execution_count": null,
   "source": [
    "plt.plot(thresholds, acc_odin, label='ODIN')\n",
    "plt.plot(thresholds, acc, label='MCP')\n",
    "plt.plot(thresholds, acc_de, label='Deep Ensemble (3)')\n",
    "plt.xlabel('Softmax Confidence')\n",
    "plt.ylabel('Accuracy')\n",
    "plt.legend()"
   ],
   "outputs": [],
   "metadata": {}
  },
  {
   "cell_type": "code",
   "execution_count": null,
   "source": [],
   "outputs": [],
   "metadata": {}
  }
 ],
 "metadata": {
  "kernelspec": {
   "display_name": "Python 3",
   "language": "python",
   "name": "python3"
  },
  "language_info": {
   "codemirror_mode": {
    "name": "ipython",
    "version": 3
   },
   "file_extension": ".py",
   "mimetype": "text/x-python",
   "name": "python",
   "nbconvert_exporter": "python",
   "pygments_lexer": "ipython3",
   "version": "3.8.8"
  }
 },
 "nbformat": 4,
 "nbformat_minor": 5
}